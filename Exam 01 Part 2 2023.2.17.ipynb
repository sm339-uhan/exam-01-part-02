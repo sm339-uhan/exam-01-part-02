{
 "cells": [
  {
   "cell_type": "markdown",
   "id": "20542d24-4dd5-43b7-9f4e-938c51a70d81",
   "metadata": {
    "deletable": false,
    "editable": false,
    "tags": []
   },
   "source": [
    "**SM339 &#x25aa; Applied Statistics &#x25aa; Spring 2023 &#x25aa; Uhan**"
   ]
  },
  {
   "cell_type": "markdown",
   "id": "3a72792a-aec3-4065-9d56-88ed28df2598",
   "metadata": {
    "deletable": false,
    "editable": false,
    "tags": []
   },
   "source": [
    "# Exam 1 &mdash; Part 2 &mdash; 2/17/2023"
   ]
  },
  {
   "cell_type": "markdown",
   "id": "206840bf-d41c-4ce1-a0de-4051888970d5",
   "metadata": {
    "deletable": false,
    "editable": false,
    "tags": []
   },
   "source": [
    "## Instructions\n",
    "\n",
    "This part is worth 40 points total. The exam (both parts) is worth 100 points total.\n",
    "\n",
    "You have until the end of the class period to complete this part of the exam.\n",
    "\n",
    "You may use your plebe-issue TI-36X Pro calculator.\n",
    "\n",
    "You may refer to notes that _you have handwritten_, not to exceed _one side_ of an 8.5\" × 11\" piece of paper.\n",
    "\n",
    "You may _not_ use any other materials.\n",
    "\n",
    "__No applications except for JupyterLab may be open on your laptop during the exam.__\n",
    "\n",
    "__No collaboration allowed.__ All work must be your own.\n",
    "\n",
    "__Do not discuss the contents of this exam with any midshipmen until it is returned to you.__\n",
    "\n",
    "Type your answers __directly in this Jupyter notebook__, and submit this notebook (just the `ipynb` file) using the submission form on the [course website](https://www.usna.edu/users/math/uhan/sm339/)."
   ]
  },
  {
   "cell_type": "markdown",
   "id": "b3de8b32-011e-40a1-bbcc-d2af4085f818",
   "metadata": {
    "deletable": false,
    "editable": false,
    "tags": []
   },
   "source": [
    "## Problem 1"
   ]
  },
  {
   "cell_type": "markdown",
   "id": "37608478-934b-4d8d-9390-eaabddf44917",
   "metadata": {
    "deletable": false,
    "editable": false,
    "tags": []
   },
   "source": [
    "### a.\n",
    "\n",
    "For $X \\sim N(\\mu = 3, \\sigma^2 = 4)$, calculate $P(2.1 \\le X < 3.7)$."
   ]
  },
  {
   "cell_type": "code",
   "execution_count": null,
   "id": "17ddd885-271f-4c79-8a48-c9f2bb648a9c",
   "metadata": {
    "deletable": false,
    "tags": []
   },
   "outputs": [],
   "source": []
  },
  {
   "cell_type": "markdown",
   "id": "14e7e16e-6af0-45f6-afca-ccfcb03cd08d",
   "metadata": {
    "deletable": false,
    "editable": false,
    "tags": []
   },
   "source": [
    "### b.\n",
    "\n",
    "For $Y \\sim t(\\mathit{df} = 11)$, calculate the 25th quantile."
   ]
  },
  {
   "cell_type": "code",
   "execution_count": null,
   "id": "ab3bd34c-1df2-451e-bdcf-732a61c2b969",
   "metadata": {
    "deletable": false,
    "tags": []
   },
   "outputs": [],
   "source": []
  },
  {
   "cell_type": "markdown",
   "id": "101149dd-3046-4139-aa6d-be14480294be",
   "metadata": {
    "deletable": false,
    "editable": false,
    "tags": []
   },
   "source": [
    "## Problem 2\n",
    "\n",
    "You've recently been hired by Jacobian Jewelers to analyze the diamond market.\n",
    "The data frame `Diamonds2` from the `Stat2Data` library contains several variables measured on 307 randomly selected diamonds, including $\\mathit{TotalPrice}$, the price for each diamond.\n",
    "\n",
    "Load the `Stat2Data` library and the `Diamonds2` data frame, and examine the first few rows by running the cell below."
   ]
  },
  {
   "cell_type": "code",
   "execution_count": null,
   "id": "55765e0a-da65-4bc9-80dd-9a793de2a654",
   "metadata": {
    "deletable": false,
    "editable": false,
    "tags": []
   },
   "outputs": [],
   "source": [
    "library(Stat2Data)\n",
    "data(Diamonds2)\n",
    "head(Diamonds2)"
   ]
  },
  {
   "cell_type": "markdown",
   "id": "626b513e-a4e2-4f12-ad41-205ccfe5d337",
   "metadata": {
    "deletable": false,
    "editable": false,
    "tags": []
   },
   "source": [
    "### a.\n",
    "\n",
    "Compute the mean of the prices of the diamonds in the sample."
   ]
  },
  {
   "cell_type": "code",
   "execution_count": null,
   "id": "7f753eb3-c3c7-419b-84ec-7650b2e94976",
   "metadata": {
    "deletable": false,
    "tags": []
   },
   "outputs": [],
   "source": []
  },
  {
   "cell_type": "markdown",
   "id": "623606cb-5022-4740-a86f-f0bc27a9b568",
   "metadata": {
    "deletable": false,
    "editable": false,
    "tags": []
   },
   "source": [
    "### b.\n",
    "\n",
    "Create a boxplot of the prices of the diamonds in the sample."
   ]
  },
  {
   "cell_type": "code",
   "execution_count": null,
   "id": "ef3fdfd0-1805-4da8-ac62-c452b2fe7123",
   "metadata": {
    "deletable": false,
    "tags": []
   },
   "outputs": [],
   "source": []
  },
  {
   "cell_type": "markdown",
   "id": "821d8d5f-6152-485e-bed6-0aeb41fb7c17",
   "metadata": {
    "deletable": false,
    "editable": false,
    "tags": []
   },
   "source": [
    "## Problem 3\n",
    "\n",
    "A faculty member has supplemental retirement account (SRA) to invest money for retirement.\n",
    "The data frame `Retirement` from the `Stat2Data` library contains two variables: the contribution ($\\mathit{SRA}$) to that account in each $\\mathit{Year}$.\n",
    "The data frame has 16 observations.\n",
    "\n",
    "Load the `Retirement` data frame and examine the first few rows by running the cell below."
   ]
  },
  {
   "cell_type": "code",
   "execution_count": null,
   "id": "66856309-7d91-4f3f-9a51-b425cc620a62",
   "metadata": {
    "deletable": false,
    "editable": false,
    "tags": []
   },
   "outputs": [],
   "source": [
    "data(Retirement)\n",
    "head(Retirement)"
   ]
  },
  {
   "cell_type": "markdown",
   "id": "f211623c-814d-4de8-9166-6df3678a15bf",
   "metadata": {
    "deletable": false,
    "editable": false,
    "tags": []
   },
   "source": [
    "### a.\n",
    "\n",
    "Fit a simple linear regression model for predicting the annual contribution ($\\mathit{SRA}$) using $\\mathit{Year}$.\n",
    "\n",
    "Provide __only__ the summary output for this part."
   ]
  },
  {
   "cell_type": "code",
   "execution_count": null,
   "id": "44495d1b-9d57-4917-a63b-435763bb6c04",
   "metadata": {
    "deletable": false,
    "tags": []
   },
   "outputs": [],
   "source": []
  },
  {
   "cell_type": "markdown",
   "id": "78de5cc4-9c7f-4342-b4da-f9999ca03ca3",
   "metadata": {
    "deletable": false,
    "editable": false,
    "tags": []
   },
   "source": [
    "### b.\n",
    "\n",
    "Create a plot of the standardized residuals, leverage, and Cook's distance.\n",
    "\n",
    "You will be asked to comment on this plot in the next part."
   ]
  },
  {
   "cell_type": "code",
   "execution_count": null,
   "id": "cfd2126a-003b-4941-a250-ac4eba0f0ae6",
   "metadata": {
    "deletable": false,
    "tags": []
   },
   "outputs": [],
   "source": []
  },
  {
   "cell_type": "markdown",
   "id": "12ce74d2-0dfe-4447-8ffc-dc07a00452e1",
   "metadata": {
    "deletable": false,
    "editable": false,
    "tags": []
   },
   "source": [
    "### c.\n",
    "\n",
    "Using the rules of thumb we covered in class, comment on how \"unusual\" point 15 is in terms of its standardized residual, leverage, and Cook's distance. For each of these three measures, briefly explain."
   ]
  },
  {
   "cell_type": "markdown",
   "id": "02207c34-6011-432b-a054-5cf8551ab919",
   "metadata": {
    "deletable": false,
    "tags": []
   },
   "source": [
    "*Write your answer here. Double-click to edit.*"
   ]
  },
  {
   "cell_type": "markdown",
   "id": "a5cbd9b6-e1d1-43ce-a564-62ce00ec36e3",
   "metadata": {
    "deletable": false,
    "editable": false,
    "tags": []
   },
   "source": [
    "### d.\n",
    "\n",
    "Write R code to display __only__ the 7th and 15th rows of the data frame `Retirement`."
   ]
  },
  {
   "cell_type": "code",
   "execution_count": null,
   "id": "4cdf9fa1-80a0-4a18-a448-fd1422a3952c",
   "metadata": {
    "deletable": false,
    "tags": []
   },
   "outputs": [],
   "source": []
  },
  {
   "cell_type": "markdown",
   "id": "1908f8a6-41b8-47bb-9045-470d3d6f3966",
   "metadata": {
    "deletable": false,
    "editable": false,
    "tags": []
   },
   "source": [
    "## Problem 4\n",
    "\n",
    "Simplexville Showers wants to better understand the market for shower heads, and has hired you as their consultant.\n",
    "\n",
    "In the same folder as this notebook, there is a CSV file `data/Shower.csv` containing the $\\mathit{Price}$ (in dollars) and average $\\mathit{Rating}$ for 74 shower heads, randomly sampled from the online retailer, Jungle.com.\n",
    "\n",
    "Load the CSV file into a data frame called `Shower` by running the cell below."
   ]
  },
  {
   "cell_type": "code",
   "execution_count": null,
   "id": "c3e26244-4da4-45b1-869e-b4cd31b5cdc2",
   "metadata": {
    "deletable": false,
    "editable": false,
    "tags": []
   },
   "outputs": [],
   "source": [
    "Shower <- read.csv('data/Shower.csv')"
   ]
  },
  {
   "cell_type": "markdown",
   "id": "cb1f00c1-5c8b-4476-9912-84910226aec0",
   "metadata": {
    "deletable": false,
    "editable": false,
    "tags": []
   },
   "source": [
    "### a.\n",
    "\n",
    "Fit a simple linear regression model for predicting $\\mathit{Price}$ using $\\mathit{Rating}$.\n",
    "\n",
    "Provide __only__ the summary output for this part."
   ]
  },
  {
   "cell_type": "code",
   "execution_count": null,
   "id": "c463fea1-d756-4bce-b198-fbafda609648",
   "metadata": {
    "deletable": false,
    "tags": []
   },
   "outputs": [],
   "source": []
  },
  {
   "cell_type": "markdown",
   "id": "71ea019d-e0c7-4a3b-a74b-72054b21b05d",
   "metadata": {
    "deletable": false,
    "editable": false,
    "tags": []
   },
   "source": [
    "### b.\n",
    "\n",
    "Is the __constant variance__ condition for simple linear regression met?\n",
    "\n",
    "Using the code cell below, create a __single__ diagnostic plot that will help you answer this question.\n",
    "\n",
    "In the Markdown cell below, comment on whether the constant variance condition is met, based on your diagnostic plot. "
   ]
  },
  {
   "cell_type": "code",
   "execution_count": null,
   "id": "7e75ac1b-e63e-49d6-bfaa-b1fca3373e85",
   "metadata": {
    "deletable": false,
    "tags": []
   },
   "outputs": [],
   "source": []
  },
  {
   "cell_type": "markdown",
   "id": "219829d2-5f5c-498d-863d-27d98e3eb004",
   "metadata": {
    "deletable": false,
    "tags": []
   },
   "source": [
    "*Write your answer here. Double-click to edit.*"
   ]
  },
  {
   "cell_type": "markdown",
   "id": "f0b9a2dc-01ad-46e4-9635-599132bd1bb6",
   "metadata": {
    "deletable": false,
    "editable": false,
    "tags": []
   },
   "source": [
    "### c.\n",
    "\n",
    "Is the __linearity__ condition for simple linear regression met?\n",
    "\n",
    "Using the code cell below, create a __single__ diagnostic plot that will help you answer this question.\n",
    "\n",
    "In the Markdown cell below, comment on whether the linearity condition is met, based on your diagnostic plot. "
   ]
  },
  {
   "cell_type": "code",
   "execution_count": null,
   "id": "c9e7a313-cddf-41d6-8f00-e43178f0bc10",
   "metadata": {
    "deletable": false,
    "tags": []
   },
   "outputs": [],
   "source": []
  },
  {
   "cell_type": "markdown",
   "id": "6bf38f8d-8500-4a91-b662-1c5b2dc85b7c",
   "metadata": {
    "deletable": false,
    "tags": []
   },
   "source": [
    "*Write your answer here. Double-click to edit.*"
   ]
  },
  {
   "cell_type": "markdown",
   "id": "da7585a8-ad67-434f-b02b-0bc2acf5bfeb",
   "metadata": {
    "deletable": false,
    "editable": false,
    "tags": []
   },
   "source": [
    "### d.\n",
    "\n",
    "Is the __normality__ condition for simple linear regression met?\n",
    "\n",
    "Using the code cell below, create a __single__ diagnostic plot that will help you answer this question.\n",
    "\n",
    "In the Markdown cell below, comment on whether the normality condition is met, based on your diagnostic plot. "
   ]
  },
  {
   "cell_type": "code",
   "execution_count": null,
   "id": "935e73e8-9054-4821-87e3-912d469e83a9",
   "metadata": {
    "deletable": false,
    "tags": []
   },
   "outputs": [],
   "source": []
  },
  {
   "cell_type": "markdown",
   "id": "c35fb85b-f767-48d0-9a59-63658df4d509",
   "metadata": {
    "deletable": false,
    "tags": []
   },
   "source": [
    "*Write your answer here. Double-click to edit.*"
   ]
  },
  {
   "cell_type": "markdown",
   "id": "4160f75f-aa04-454f-9d59-fd8c9811004b",
   "metadata": {
    "deletable": false,
    "editable": false,
    "tags": []
   },
   "source": [
    "## Grading rubric\n",
    "    \n",
    "| Problem | Weight |\n",
    "| :-: | -: |\n",
    "| 1a | 0.2 |\n",
    "| 1b | 0.2 |\n",
    "| 2a | 0.2 |\n",
    "| 2b | 0.2 |\n",
    "| 3a | 0.4 |\n",
    "| 3b | 0.4 |\n",
    "| 3c | 0.4 |\n",
    "| 3d | 0.4 |\n",
    "| 4a | 0.4 |\n",
    "| 4b | 0.4 |\n",
    "| 4c | 0.4 |\n",
    "| 4d | 0.4 |\n",
    "| __Max Score__ | __40__ | "
   ]
  }
 ],
 "metadata": {
  "kernelspec": {
   "display_name": "R",
   "language": "R",
   "name": "ir"
  },
  "language_info": {
   "codemirror_mode": "r",
   "file_extension": ".r",
   "mimetype": "text/x-r-source",
   "name": "R",
   "pygments_lexer": "r",
   "version": "4.2.2"
  }
 },
 "nbformat": 4,
 "nbformat_minor": 5
}
